{
 "cells": [
  {
   "cell_type": "markdown",
   "metadata": {},
   "source": [
    "# Task 2\n"
   ]
  },
  {
   "cell_type": "code",
   "execution_count": null,
   "metadata": {},
   "outputs": [],
   "source": [
    "import os\n",
    "from functools import partial\n",
    "\n",
    "import numpy as np\n",
    "import pandas as pd\n",
    "import matplotlib.pyplot as plt\n",
    "\n",
    "import tensorflow as tf\n",
    "from tensorflow import keras\n",
    "from keras import layers\n",
    "\n",
    "from utils import get_dirs, train_test_split"
   ]
  },
  {
   "cell_type": "markdown",
   "metadata": {},
   "source": [
    "Load the dataset"
   ]
  },
  {
   "cell_type": "code",
   "execution_count": null,
   "metadata": {},
   "outputs": [],
   "source": [
    "DIRS = get_dirs(os.path.abspath('') + os.sep + 'Task2.ipynb')"
   ]
  },
  {
   "cell_type": "code",
   "execution_count": null,
   "metadata": {},
   "outputs": [],
   "source": [
    "images = np.load(DIRS['data'] + 'images.npy')\n",
    "labels = np.load(DIRS['data'] + 'labels.npy')\n",
    "\n",
    "# show 9 random images with plt.imshow\n",
    "fig, axes = plt.subplots(3, 3, figsize=(5, 5))\n",
    "for i, ax in enumerate(axes.flat):\n",
    "    ri = np.random.randint(0, images.shape[0])\n",
    "    ax.imshow(images[ri], cmap='gray')\n",
    "    ax.set(xticks=[], yticks=[])\n",
    "    ax.set_title(f'{labels[ri][0]}:{labels[ri][1]}')"
   ]
  },
  {
   "cell_type": "markdown",
   "metadata": {},
   "source": [
    "We can see that the dataset consists of images of clocks, each with a different angle, rotation and lightning. This makes it rather difficult to train a model to classify the images.\n",
    "\n",
    "We will be trying multiple ways of labelling the clocks, firstly try by regression label."
   ]
  },
  {
   "cell_type": "code",
   "execution_count": null,
   "metadata": {},
   "outputs": [],
   "source": [
    "regressionLabels = labels[:, 0] + labels[:, 1] / 60\n",
    "\n",
    "X_train, X_test, y_train, y_test = train_test_split(X=images, y=regressionLabels, test_size=0.2)\n",
    "\n",
    "X_train.shape"
   ]
  },
  {
   "cell_type": "code",
   "execution_count": null,
   "metadata": {},
   "outputs": [],
   "source": [
    "def lossFunction(y_true, y_pred):\n",
    "    return tf.math.minimum(tf.math.abs(y_true - y_pred), 12 - tf.math.abs(y_true - y_pred))"
   ]
  },
  {
   "cell_type": "code",
   "execution_count": null,
   "metadata": {},
   "outputs": [],
   "source": [
    "def activationFunction(x):\n",
    "    return keras.activations.relu(x, alpha=0.0, max_value=12)"
   ]
  },
  {
   "cell_type": "code",
   "execution_count": null,
   "metadata": {},
   "outputs": [],
   "source": [
    "a = tf.constant([-3, -1, 0, 1 , 3, 100])\n",
    "b = activationFunction(a)\n",
    "tf.print(b)"
   ]
  },
  {
   "cell_type": "code",
   "execution_count": null,
   "metadata": {},
   "outputs": [],
   "source": [
    "# base architecture (from Luuk)\n",
    "DefaultConv2D = partial(layers.Conv2D, kernel_initializer='he_normal', kernel_size = 3, activation = 'elu', padding = 'SAME')\n",
    "model = keras.Sequential([\n",
    "    DefaultConv2D(filters = 32, kernel_size = 5, strides = (3, 3), input_shape = [150, 150, 1]),\n",
    "    layers.MaxPooling2D(pool_size = 2),\n",
    "    DefaultConv2D(filters = 64),\n",
    "    layers.MaxPooling2D(pool_size = 2),\n",
    "    DefaultConv2D(filters = 128),\n",
    "    layers.MaxPooling2D(pool_size = 2),\n",
    "    layers.Flatten()\n",
    "])"
   ]
  },
  {
   "cell_type": "code",
   "execution_count": null,
   "metadata": {},
   "outputs": [],
   "source": [
    "model.add(layers.Dense(1, activation = activationFunction))"
   ]
  },
  {
   "cell_type": "code",
   "execution_count": null,
   "metadata": {},
   "outputs": [],
   "source": [
    "model.compile(loss = lossFunction, optimizer = 'adam', metrics = ['mae'])"
   ]
  },
  {
   "cell_type": "code",
   "execution_count": null,
   "metadata": {},
   "outputs": [],
   "source": [
    "model.fit(X_train, y_train, epochs = 5, validation_data = (X_test, y_test), verbose=1)"
   ]
  },
  {
   "cell_type": "code",
   "execution_count": null,
   "metadata": {},
   "outputs": [],
   "source": [
    "model.compile(loss=lossFunction, optimizer='adam', metrics=['mean_squared_error'])\n",
    "\n",
    "history = model.fit(X_train, y_train, batch_size=32, epochs=3, validation_split=0.1, verbose=1)\n",
    "\n",
    "#model.evaluate(X_test, y_test, verbose=2)\n",
    "\n",
    "#show differences between predicted and actual values\n",
    "# add straight line to show perfect prediction\n",
    "\n",
    "y_pred = model.predict(X_test)\n",
    "plt.figure(figsize=(10,10))\n",
    "plt.scatter(y_test, y_pred)\n",
    "plt.plot([0, 24], [0, 24], color='red')\n",
    "plt.xlabel('Actual')\n",
    "plt.ylabel('Predicted')\n",
    "plt.show()"
   ]
  }
 ],
 "metadata": {
  "kernelspec": {
   "display_name": "Python 3.10.8 ('venv': venv)",
   "language": "python",
   "name": "python3"
  },
  "language_info": {
   "codemirror_mode": {
    "name": "ipython",
    "version": 3
   },
   "file_extension": ".py",
   "mimetype": "text/x-python",
   "name": "python",
   "nbconvert_exporter": "python",
   "pygments_lexer": "ipython3",
   "version": "3.10.8"
  },
  "orig_nbformat": 4,
  "vscode": {
   "interpreter": {
    "hash": "73a50edc90de9e6c73e4de59c0149da437672aa3b7b7e4f31799c5ff4b4c231b"
   }
  }
 },
 "nbformat": 4,
 "nbformat_minor": 2
}
