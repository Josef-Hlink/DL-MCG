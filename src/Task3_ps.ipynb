{
  "cells": [
    {
      "cell_type": "markdown",
      "metadata": {},
      "source": [
        "# Task 3: Generative Models"
      ]
    },
    {
      "cell_type": "markdown",
      "metadata": {
        "id": "YjFWQh_hyghW"
      },
      "source": [
        "<img src=\"https://lilianweng.github.io/lil-log/assets/images/three-generative-models.png\" width=\"500\"> "
      ]
    },
    {
      "cell_type": "markdown",
      "metadata": {},
      "source": [
        "## Setup"
      ]
    },
    {
      "cell_type": "markdown",
      "metadata": {},
      "source": [
        "### Imports"
      ]
    },
    {
      "cell_type": "code",
      "execution_count": null,
      "metadata": {
        "colab": {
          "base_uri": "https://localhost:8080/"
        },
        "id": "aDjcuZ_rygha",
        "outputId": "662eb1f3-60dd-4968-8776-69a62b165801"
      },
      "outputs": [],
      "source": [
        "# stdlib\n",
        "import os\n",
        "\n",
        "# pip\n",
        "import numpy as np\n",
        "import pandas as pd\n",
        "import PIL\n",
        "import tensorflow as tf\n",
        "from keras.layers import Dense, Flatten, Conv2D, Conv2DTranspose, Reshape\n",
        "import matplotlib.pyplot as plt\n",
        "\n",
        "# local\n",
        "from utils import get_dirs"
      ]
    },
    {
      "cell_type": "code",
      "execution_count": null,
      "metadata": {},
      "outputs": [],
      "source": [
        "DIRS = get_dirs(os.path.abspath('') + os.sep + 'Task1.ipynb')\n",
        "print('\\033[1m' + 'Directories:' + '\\033[0m')\n",
        "for dir_name, path in DIRS.items():\n",
        "    print(f'{dir_name:<7} {path}')"
      ]
    },
    {
      "cell_type": "markdown",
      "metadata": {
        "id": "4XMNhkbjyghf"
      },
      "source": [
        "### Dataset"
      ]
    },
    {
      "cell_type": "code",
      "execution_count": null,
      "metadata": {},
      "outputs": [],
      "source": [
        "def convert_to_npy(path: str) -> np.ndarray:\n",
        "    \"\"\"\n",
        "    Converts a directory of images to a numpy array.\n",
        "    Returns numpy array of shape (N, H, W, C) where N is the number of images,\n",
        "    H and W are the height and width of the images, and C is the number of channels.\n",
        "    \"\"\"\n",
        "    images = []\n",
        "    for file in os.listdir(path):\n",
        "        if not file.endswith('.png'):\n",
        "            continue\n",
        "        image = PIL.Image.open(os.path.join(path, file))\n",
        "        image = np.array(image)\n",
        "        images.append(image)\n",
        "    return np.array(images)\n",
        "\n",
        "def load_from_npy(path: str, scale: bool = False) -> np.ndarray:\n",
        "    \"\"\"\n",
        "    Loads a numpy array from a file.\n",
        "    scale: If False, channels are in the range [0, 1]. If True, channels are in range [-1, 1]\n",
        "    \"\"\"\n",
        "    X = np.load(path)\n",
        "    if scale:\n",
        "        X = (X - 127.5) * 2\n",
        "    return X / 255.0"
      ]
    },
    {
      "cell_type": "markdown",
      "metadata": {},
      "source": [
        "The data should be present (unzipped) in the `data` folder.\n",
        "Because this data is a collection of multiple sources, we want to remove duplicates when loading it for the first time.\n",
        "The pruned dataset will be saved as a NumPy array in the `data` folder (cats.npy).\n",
        "We are working with a generative model, so we will not need to use any labels."
      ]
    },
    {
      "cell_type": "code",
      "execution_count": null,
      "metadata": {},
      "outputs": [],
      "source": [
        "if not os.path.exists(DIRS['data'] + 'cats.npy'):\n",
        "    images = convert_to_npy(DIRS['data'] + 'cats' + os.sep)\n",
        "    # remove duplicates\n",
        "    samples_before = images.shape[0]\n",
        "    images = np.unique(images, axis=0)\n",
        "    samples_after = images.shape[0]\n",
        "    print(f'Removed {samples_before - samples_after} duplicates')\n",
        "    np.save(DIRS['data'] + 'cats.npy', images)\n",
        "else:\n",
        "    images = load_from_npy(DIRS['data'] + 'cats.npy')\n",
        "\n",
        "dataset = images\n",
        "print(f'dataset shape: {dataset.shape}, min: {dataset.min()}, max: {dataset.max()}')"
      ]
    },
    {
      "cell_type": "markdown",
      "metadata": {},
      "source": [
        "This function will be called later on, but we also call it once to show that it works."
      ]
    },
    {
      "cell_type": "code",
      "execution_count": null,
      "metadata": {
        "colab": {
          "base_uri": "https://localhost:8080/",
          "height": 277
        },
        "id": "el6Icj9gyghg",
        "outputId": "9145dd32-8578-409e-9bef-13d76539dbbd"
      },
      "outputs": [],
      "source": [
        "def grid_plot(\n",
        "    images: np.ndarray,\n",
        "    epoch: int = 0,\n",
        "    name: str = '',\n",
        "    n: int = 3,\n",
        "    save: bool = False,\n",
        "    scale: bool = False\n",
        "    ) -> None:\n",
        "    \"\"\"\n",
        "    Plot a grid of n*n images, note that images.shape[0] must equal n*n.\n",
        "    \"\"\"\n",
        "    if scale:\n",
        "        images = (images + 1) / 2.0\n",
        "    \n",
        "    fig, axes = plt.subplots(n, n, figsize=(n*2, n*2))\n",
        "    for i in range(n * n):\n",
        "        ax = axes[i // n, i % n]\n",
        "        ax.imshow(images[i])\n",
        "        ax.axis('off')\n",
        "    fig.suptitle(f'{name} {epoch}', fontsize=14)\n",
        "    \n",
        "    if save:\n",
        "        filename = f'results/generated_plot_e{epoch+1}03d_f.png'\n",
        "        fig.savefig(filename)\n",
        "        plt.close(fig)\n",
        "    else:\n",
        "        plt.show()\n",
        "\n",
        "\n",
        "ri_mask = np.random.choice(range(0, dataset.shape[0]), 9, replace=False)\n",
        "random_images = dataset[ri_mask]\n",
        "grid_plot(random_images, name='Cats dataset (64x64x3)', n=3)"
      ]
    },
    {
      "cell_type": "markdown",
      "metadata": {
        "id": "IY2JiCWeyghl"
      },
      "source": [
        "## 2.1. Introduction\n",
        "\n",
        "The generative models that we are going to cover both have the following components:\n",
        "\n",
        "1. A downsampling architecture (encoder in case of VAE, and discriminator in case of GAN) to either extract features from the data or model its distribution.\n",
        "2. An upsampling architecture (decoder for VAE, generator for GAN) that will use some kind of latent vector to generate new samples that resemble the data that it was trained on.\n",
        "\n",
        "Since we are going to be dealing with images, we are going to use convolutional networks for upsampling and downsampling, similar to what you see below.\n",
        "\n",
        "<img src=\"https://i2.wp.com/sefiks.com/wp-content/uploads/2018/03/convolutional-autoencoder.png\" width=\"500\"> \n",
        "\n",
        "\n",
        "#### Code for building these components:"
      ]
    },
    {
      "cell_type": "code",
      "execution_count": null,
      "metadata": {
        "id": "AMljVR5oyghm"
      },
      "outputs": [],
      "source": [
        "def build_conv_net(\n",
        "    in_shape: tuple = (64, 64, 3),\n",
        "    out_shape: int = 512,\n",
        "    n_downsampling_layers: int = 4,\n",
        "    filters: int = 128,\n",
        "    out_activation: str = 'sigmoid'\n",
        "    ) -> tf.keras.Sequential:\n",
        "    \"\"\"\n",
        "    Build a basic convolutional network\n",
        "    \"\"\"\n",
        "    model = tf.keras.Sequential()\n",
        "    default_args = dict(\n",
        "        kernel_size = (3, 3),\n",
        "        strides = (2, 2),\n",
        "        padding = 'same',\n",
        "        activation = 'relu'\n",
        "    )\n",
        "\n",
        "    model.add(Conv2D(\n",
        "        input_shape = in_shape,\n",
        "        **default_args,\n",
        "        filters = filters\n",
        "    ))\n",
        "\n",
        "    for _ in range(n_downsampling_layers):\n",
        "        model.add(Conv2D(\n",
        "            **default_args,\n",
        "            filters = filters\n",
        "        ))\n",
        "\n",
        "    model.add(Flatten())\n",
        "    model.add(Dense(out_shape, activation=out_activation) )\n",
        "    model.summary()\n",
        "    \n",
        "    return model\n",
        "\n",
        "\n",
        "def build_deconv_net(\n",
        "    latent_dim: int = 512,\n",
        "    n_upsampling_layers = 4,\n",
        "    filters = 128,\n",
        "    activation_out = 'sigmoid'\n",
        "    ) -> tf.keras.Sequential:\n",
        "    \"\"\"\n",
        "    Build a deconvolutional network for decoding/upscaling latent vectors\n",
        "    \"\"\"\n",
        "    model = tf.keras.Sequential()\n",
        "    model.add(Dense(4 * 4 * 64, input_dim=latent_dim)) \n",
        "    model.add(Reshape((4, 4, 64))) # this matches the output size of the downsampling architecture\n",
        "    default_args = dict(\n",
        "        kernel_size = (3, 3),\n",
        "        strides = (2, 2),\n",
        "        padding = 'same',\n",
        "        activation = 'relu'\n",
        "    )\n",
        "    \n",
        "    for _ in range(n_upsampling_layers):\n",
        "        model.add(Conv2DTranspose(**default_args, filters=filters))\n",
        "\n",
        "    # this last convolutional layer converts back to 3 channel RGB image\n",
        "    model.add(Conv2D(filters=3, kernel_size=(3,3), activation=activation_out, padding='same'))\n",
        "    model.summary()\n",
        "    \n",
        "    return model"
      ]
    },
    {
      "cell_type": "markdown",
      "metadata": {
        "id": "JA4GwTxMyghq"
      },
      "source": [
        "### Convolutional Autoencoder example\n",
        "\n",
        "Using these two basic building blocks we can now build a Convolutional Autoencoder (CAE).\n",
        "\n",
        "<img src=\"https://lilianweng.github.io/lil-log/assets/images/autoencoder-architecture.png\" width=\"500\"> \n",
        "\n",
        "\n",
        "\n",
        "Even though it's not a generative model, CAE is a great way to illustrate how these two components (convolutional and deconvolutional networks) can be used together to reconstruct images.\n",
        "\n",
        "You can view such model as a compression/dimensionality reduction method as each image gets compressed to a vector of 256 numbers by the encoder and gets decompressed back into an image using the decoder network."
      ]
    },
    {
      "cell_type": "code",
      "execution_count": null,
      "metadata": {},
      "outputs": [],
      "source": [
        "def build_convolutional_autoencoder(\n",
        "    data_shape: tuple = (64, 64, 3),\n",
        "    latent_dim: int = 512,\n",
        "    filters: int = 128\n",
        "    ) -> tf.keras.Sequential:\n",
        "    \"\"\"\n",
        "    Concatenate the encoder and decoder networks to build a basic (non-variational) convolutional autoencoder\n",
        "    \"\"\"\n",
        "    \n",
        "    encoder = build_conv_net(\n",
        "        in_shape = data_shape,\n",
        "        out_shape = latent_dim,\n",
        "        filters = filters\n",
        "    )\n",
        "    decoder = build_deconv_net(\n",
        "        latent_dim,\n",
        "        activation_out = 'sigmoid',\n",
        "        filters = filters\n",
        "    )\n",
        "\n",
        "    # connect encoder and decoder into a single model\n",
        "    autoencoder = tf.keras.Sequential([encoder, decoder])\n",
        "    \n",
        "    # Binary crossentropy loss - pairwise comparison between input and output pixels\n",
        "    autoencoder.compile(loss='binary_crossentropy', optimizer='adam')\n",
        "\n",
        "    return autoencoder\n"
      ]
    },
    {
      "cell_type": "code",
      "execution_count": null,
      "metadata": {
        "id": "j9vPwWeLyghq",
        "scrolled": true
      },
      "outputs": [],
      "source": [
        "image_size = dataset.shape[1:]\n",
        "latent_dim = 512\n",
        "num_filters = 128\n",
        "cae = build_convolutional_autoencoder(image_size, latent_dim, num_filters)\n",
        "\n",
        "for epoch in range(10):\n",
        "    print('\\nEpoch: ', epoch)\n",
        "\n",
        "    # Note that (X=y) when training autoencoders!\n",
        "    # In this case we only care about qualitative performance, we don't split into train/test sets\n",
        "    cae.fit(x=dataset, y=dataset, epochs=1, batch_size=64)\n",
        "    \n",
        "    ri_mask = np.random.choice(range(0, dataset.shape[0]), 9, replace=False)\n",
        "    samples = dataset[ri_mask]\n",
        "    reconstructed = cae.predict(samples)\n",
        "    grid_plot(samples, epoch, name='Original', n=3, save=False)\n",
        "    grid_plot(reconstructed, epoch, name='Reconstructed', n=3, save=False)\n"
      ]
    },
    {
      "cell_type": "markdown",
      "metadata": {
        "id": "_N2Wdjv9tTXi"
      },
      "source": [
        "*Note: You may experiment with the latent dimensionality and number of filters in your convolutional network to see how it affects the reconstruction quality. Remember that this also affects the size of the model and time it takes to train.*"
      ]
    },
    {
      "cell_type": "markdown",
      "metadata": {
        "id": "TWInkZXdyghv"
      },
      "source": [
        "--- \n",
        "---\n",
        "\n",
        "\n",
        "## 2. 2. Variational Autoencoders (VAEs)\n",
        "\n",
        "<img src=\"https://lilianweng.github.io/lil-log/assets/images/vae-gaussian.png\" width=\"500\"> \n",
        "\n",
        "#### Encoder network\n",
        "This defines the approximate posterior distribution, which takes as input an observation and outputs a set of parameters for specifying the conditional distribution of the latent representation. In this example, we simply model the distribution as a diagonal Gaussian, and the network outputs the mean and log-variance parameters of a factorized Gaussian. We output log-variance instead of the variance directly for numerical stability.\n",
        "\n",
        "#### Decoder network\n",
        "This defines the conditional distribution of the observation $z$, which takes a latent sample $z$ as input and outputs the parameters for a conditional distribution of the observation. We model the latent distribution prior  as a unit Gaussian.\n",
        "\n",
        "#### Reparameterization trick\n",
        "To generate a sample  for the decoder during training, we can sample from the latent distribution defined by the parameters outputted by the encoder, given an input observation $z$. However, this sampling operation creates a bottleneck because backpropagation cannot flow through a random node.\n",
        "\n",
        "To address this, we use a reparameterization trick. In our example, we approximate  using the decoder parameters and another parameter  as follows:\n",
        "\n",
        "$$z = \\mu + \\sigma\\epsilon$$\n",
        "\n",
        "where $\\mu$ and $\\sigma$  represent the mean and standard deviation of a Gaussian distribution respectively. They can be derived from the decoder output. The  can be thought of as a random noise used to maintain stochasticity of $z$. We generate  from a standard normal distribution.\n",
        "\n",
        "The latent variable  is now generated by a function of $\\mu$ and $\\sigma$ which would enable the model to backpropagate gradients in the encoder through $\\mu$ and $\\sigma$ respectively, while maintaining stochasticity through $\\epsilon$.\n",
        "\n",
        "#### Implementation \n",
        "\n",
        "You can see how this trick is implemented below by creating a custom layer by sublassing tf.keras.layers.Layer.\n",
        "It is then connected to the output of the original encoder architecture and an additional [KL](https://en.wikipedia.org/wiki/Kullback–Leibler_divergence) loss term is introduced.\n"
      ]
    },
    {
      "cell_type": "code",
      "execution_count": null,
      "metadata": {
        "id": "FyGbnibCyghw"
      },
      "outputs": [],
      "source": [
        "class Sampling(tf.keras.layers.Layer):\n",
        "    \"\"\"\n",
        "    Custom layer for the variational autoencoder\n",
        "    It takes two vectors as input - one for means and other for variances of the latent variables described by a multimodal gaussian\n",
        "    Its output is a latent vector randomly sampled from this distribution\n",
        "    \"\"\"\n",
        "    def call(self, inputs):\n",
        "        z_mean, z_var = inputs\n",
        "        batch = tf.shape(z_mean)[0]\n",
        "        dim = tf.shape(z_mean)[1]\n",
        "        epsilon = tf.keras.backend.random_normal(shape=(batch, dim))\n",
        "        return z_mean + tf.exp(0.5 * z_var) * epsilon\n",
        "\n",
        "def build_vae(data_shape, latent_dim, filters=128):\n",
        "\n",
        "    # Building the encoder - starts with a simple downsampling convolutional network  \n",
        "    encoder = build_conv_net(data_shape, latent_dim*2, filters=filters)\n",
        "    \n",
        "    # Adding special sampling layer that uses the reparametrization trick \n",
        "    z_mean = Dense(latent_dim)(encoder.output)\n",
        "    z_var = Dense(latent_dim)(encoder.output)\n",
        "    z = Sampling()([z_mean, z_var])\n",
        "    \n",
        "    # Connecting the two encoder parts\n",
        "    encoder = tf.keras.Model(inputs=encoder.input, outputs=z)\n",
        "\n",
        "    # Defining the decoder which is a regular upsampling deconvolutional network\n",
        "    decoder = build_deconv_net(latent_dim, activation_out='sigmoid', filters=filters)\n",
        "    vae = tf.keras.Model(inputs=encoder.input, outputs=decoder(z))\n",
        "    \n",
        "    # Adding the special loss term\n",
        "    kl_loss = -0.5 * tf.reduce_sum(z_var - tf.square(z_mean) - tf.exp(z_var) + 1)\n",
        "    vae.add_loss(kl_loss/tf.cast(tf.keras.backend.prod(data_shape), tf.float32))\n",
        "\n",
        "    vae.compile(optimizer=tf.keras.optimizers.Adam(learning_rate=1e-3), loss='binary_crossentropy')\n",
        "\n",
        "    return encoder, decoder, vae\n"
      ]
    },
    {
      "cell_type": "code",
      "execution_count": null,
      "metadata": {
        "id": "7p_ppHSayghz",
        "scrolled": true
      },
      "outputs": [],
      "source": [
        "# Training the VAE model\n",
        "\n",
        "latent_dim = 32\n",
        "encoder, decoder, vae = build_vae(dataset.shape[1:], latent_dim, filters=128)\n",
        "\n",
        "# Generate random vectors that we will use to sample our latent space\n",
        "for epoch in range(20):\n",
        "    latent_vectors = np.random.randn(9, latent_dim)\n",
        "    vae.fit(x=dataset, y=dataset, epochs=1, batch_size=8)\n",
        "    \n",
        "    images = decoder(latent_vectors)\n",
        "    grid_plot(images, epoch, name='VAE generated images (randomly sampled from the latent space)', n=3, save=False)"
      ]
    },
    {
      "cell_type": "code",
      "execution_count": null,
      "metadata": {},
      "outputs": [],
      "source": [
        "# take 2 random images from the dataset\n",
        "ri_mask = np.random.choice(range(0, dataset.shape[0]), 2, replace=False)\n",
        "samples = dataset[ri_mask]\n",
        "\n",
        "# encode them into the latent space\n",
        "latent_vectors = encoder(samples)\n",
        "\n",
        "# linearly interpolate between the two latent vectors\n",
        "interpolated = np.linspace(latent_vectors[0], latent_vectors[1], 9)\n",
        "\n",
        "# decode the interpolated latent vectors into images\n",
        "images = decoder(interpolated)\n",
        "\n",
        "vector1 = np.array([1, 0])\n",
        "vector2 = np.array([0, 1])\n",
        "\n",
        "# mean\n",
        "mean = np.mean([vector1, vector2], axis=0)\n",
        "\n",
        "# plot the images\n",
        "grid_plot(images, 0, name='VAE generated images (linear interpolation between two latent vectors)', n=3, save=False)\n"
      ]
    },
    {
      "cell_type": "markdown",
      "metadata": {
        "id": "P8aZw5amzyPV"
      },
      "source": [
        "*Note: again, you might experiment with the latent dimensionality, batch size and the architecture of your convolutional nets to see how it affects the generative capabilities of this model.*"
      ]
    },
    {
      "cell_type": "markdown",
      "metadata": {
        "id": "JkT8Wmc_ygh3"
      },
      "source": [
        "---\n",
        "\n",
        "## 2.3 Generative Adversarial Networks (GANs)\n",
        "\n",
        "### GAN architecture\n",
        "Generative adversarial networks consist of two models: a generative model and a discriminative model.\n",
        "\n",
        "<img src=\"https://media.springernature.com/original/springer-static/image/chp%3A10.1007%2F978-1-4842-3679-6_8/MediaObjects/463582_1_En_8_Fig1_HTML.jpg\" width=\"500\"> \n",
        "\n",
        "**The discriminator** model is a classifier that determines whether a given image looks like a real image from the dataset or like an artificially created image. This is basically a binary classifier that will take the form of a normal convolutional neural network (CNN).\n",
        "As an input this network will get samples both from the dataset that it is trained on and on the samples generated by the **generator**.\n",
        "\n",
        "The **generator** model takes random input values (noise) and transforms them into images through a deconvolutional neural network.\n",
        "\n",
        "Over the course of many training iterations, the weights and biases in the discriminator and the generator are trained through backpropagation. The discriminator learns to tell \"real\" images of handwritten digits apart from \"fake\" images created by the generator. At the same time, the generator uses feedback from the discriminator to learn how to produce convincing images that the discriminator can't distinguish from real images.\n",
        "\n",
        "\n"
      ]
    },
    {
      "cell_type": "code",
      "execution_count": null,
      "metadata": {
        "id": "E5J6CxJ9ygh4"
      },
      "outputs": [],
      "source": [
        "def build_gan(\n",
        "    data_shape,\n",
        "    latent_dim,\n",
        "    filters = 128,\n",
        "    lr = 0.0002,\n",
        "    beta_1 = 0.5\n",
        "    ):\n",
        "    optimizer = tf.optimizers.Adam(learning_rate=lr, beta_1=beta_1)\n",
        "\n",
        "    # Usually thew GAN generator has tanh activation function in the output layer\n",
        "    generator = build_deconv_net(latent_dim, activation_out='tanh', filters=filters)\n",
        "    \n",
        "    # Build and compile the discriminator\n",
        "    discriminator = build_conv_net(in_shape=data_shape, out_shape=1, filters=filters) # Single output for binary classification\n",
        "    discriminator.compile(loss='binary_crossentropy', optimizer=optimizer)\n",
        "    \n",
        "    # End-to-end GAN model for training the generator\n",
        "    discriminator.trainable = False\n",
        "    true_fake_prediction = discriminator(generator.output)\n",
        "    GAN = tf.keras.Model(inputs=generator.input, outputs=true_fake_prediction)\n",
        "    GAN = tf.keras.models.Sequential([generator, discriminator])\n",
        "    GAN.compile(loss='binary_crossentropy', optimizer=optimizer)\n",
        "    \n",
        "    return discriminator, generator, GAN\n"
      ]
    },
    {
      "cell_type": "markdown",
      "metadata": {
        "id": "kD3ipOOiygh8"
      },
      "source": [
        "### Definining custom functions for training your GANs\n",
        "\n",
        "---\n",
        "\n",
        "\n"
      ]
    },
    {
      "cell_type": "code",
      "execution_count": null,
      "metadata": {
        "id": "6r31DNfFygh9"
      },
      "outputs": [],
      "source": [
        "def run_generator(generator, n_samples=100):\n",
        "    \"\"\"\n",
        "    Run the generator model and generate n samples of synthetic images using random latent vectors\n",
        "    \"\"\"\n",
        "    latent_dim = generator.layers[0].input_shape[-1]\n",
        "    generator_input = np.random.randn(n_samples, latent_dim)\n",
        "\n",
        "    return generator.predict(generator_input)\n",
        "    \n",
        "\n",
        "def get_batch(generator, dataset, batch_size=64):\n",
        "    \"\"\"\n",
        "    Gets a single batch of samples (X) and labels (y) for the training the discriminator.\n",
        "    One half from the real dataset (labeled as 1s), the other created by the generator model (labeled as 0s).\n",
        "    \"\"\"\n",
        "    batch_size //= 2 # Split evenly among fake and real samples\n",
        "\n",
        "    fake_data = run_generator(generator, n_samples=batch_size)\n",
        "    real_data = dataset[np.random.randint(0, dataset.shape[0], batch_size)]\n",
        "\n",
        "    X = np.concatenate([fake_data, real_data], axis=0)\n",
        "    y = np.concatenate([np.zeros([batch_size, 1]), np.ones([batch_size, 1])], axis=0)\n",
        "\n",
        "    return X, y\n",
        "\n",
        "\n",
        "def train_gan(generator, discriminator, gan, dataset, latent_dim, n_epochs=20, batch_size=64):\n",
        "\n",
        "    df = pd.DataFrame(columns=['discriminator_loss', 'generator_loss'])\n",
        "    batches_per_epoch = int(dataset.shape[0] / batch_size / 2)\n",
        "    for epoch in range(n_epochs):\n",
        "        d_loss, g_loss = np.zeros(batches_per_epoch), np.zeros(batches_per_epoch)\n",
        "        for batch in range(batches_per_epoch):\n",
        "            \n",
        "            # 1) Train discriminator both on real and synthesized images\n",
        "            X, y = get_batch(generator, dataset, batch_size=batch_size)\n",
        "            discriminator_loss = discriminator.train_on_batch(X, y)\n",
        "            d_loss[batch] = discriminator_loss\n",
        "\n",
        "            # 2) Train generator (note that now the label of synthetic images is reversed to 1)\n",
        "            X_gan = np.random.randn(batch_size, latent_dim)\n",
        "            y_gan = np.ones([batch_size, 1])\n",
        "            generator_loss = gan.train_on_batch(X_gan, y_gan)\n",
        "            g_loss[batch] = generator_loss\n",
        "\n",
        "        mean_d_loss, mean_g_loss = np.mean(d_loss), np.mean(g_loss)\n",
        "        print(mean_d_loss, mean_g_loss)\n",
        "        df.loc[epoch] = [mean_d_loss, mean_g_loss]\n",
        "        noise = np.random.randn(16, latent_dim)\n",
        "        images = generator.predict(noise)\n",
        "        grid_plot(images, epoch, name='GAN generated images', n=3, save=False, scale=True)\n",
        "    return df\n"
      ]
    },
    {
      "cell_type": "code",
      "execution_count": null,
      "metadata": {
        "id": "VpMsdygAygiB",
        "tags": []
      },
      "outputs": [],
      "source": [
        "## Build and train the model (need around 10 epochs to start seeing some results)\n",
        "\n",
        "latent_dim = 256\n",
        "discriminator, generator, gan = build_gan(dataset.shape[1:], latent_dim, filters=128)\n",
        "dataset_scaled = dataset * 2 - 1  # Scale to [-1, 1] for tanh activation function\n",
        "\n",
        "loss_df = train_gan(generator, discriminator, gan, dataset_scaled, latent_dim, n_epochs=50)"
      ]
    },
    {
      "cell_type": "code",
      "execution_count": null,
      "metadata": {},
      "outputs": [],
      "source": [
        "loss_df"
      ]
    },
    {
      "cell_type": "markdown",
      "metadata": {
        "id": "XBCsM8ZAhhwx"
      },
      "source": [
        "*Note: the samples generated by small GANs are more diverse, when compared to VAEs, however some samples might look strange and do not resemble the data the model was trained on. "
      ]
    },
    {
      "cell_type": "code",
      "execution_count": null,
      "metadata": {},
      "outputs": [],
      "source": [
        "fig, ax = plt.subplots()\n",
        "\n",
        "ax.plot(loss_df['discriminator_loss'], label='Discriminator')\n",
        "ax.plot(loss_df['generator_loss'], label='Generator')\n",
        "ax.set_title('GAN loss')\n",
        "ax.set_xlabel('Epoch')\n",
        "ax.set_ylabel('Loss')\n",
        "ax.legend()\n",
        "fig.tight_layout()"
      ]
    }
  ],
  "metadata": {
    "accelerator": "GPU",
    "colab": {
      "provenance": []
    },
    "kernelspec": {
      "display_name": "Python 3.10.8 ('venv': venv)",
      "language": "python",
      "name": "python3"
    },
    "language_info": {
      "codemirror_mode": {
        "name": "ipython",
        "version": 3
      },
      "file_extension": ".py",
      "mimetype": "text/x-python",
      "name": "python",
      "nbconvert_exporter": "python",
      "pygments_lexer": "ipython3",
      "version": "3.10.8"
    },
    "vscode": {
      "interpreter": {
        "hash": "73a50edc90de9e6c73e4de59c0149da437672aa3b7b7e4f31799c5ff4b4c231b"
      }
    }
  },
  "nbformat": 4,
  "nbformat_minor": 0
}
